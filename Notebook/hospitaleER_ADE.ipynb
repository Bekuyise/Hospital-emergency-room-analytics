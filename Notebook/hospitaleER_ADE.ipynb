{
 "cells": [
  {
   "cell_type": "markdown",
   "id": "310bbac5",
   "metadata": {},
   "source": [
    "# 🏥 Automated Data Exploration (ADE) for Hospital ER Dataset\n",
    "This notebook performs automated data exploration for the Hospital ER dataset."
   ]
  },
  {
   "cell_type": "code",
   "execution_count": null,
   "id": "1d96a18b",
   "metadata": {},
   "outputs": [],
   "source": [
    "import pandas as pd\n",
    "import numpy as np\n",
    "import seaborn as sns\n",
    "import matplotlib.pyplot as plt\n",
    "import missingno as msno\n",
    "import warnings\n",
    "warnings.filterwarnings('ignore')\n",
    "\n",
    "%matplotlib inline"
   ]
  },
  {
   "cell_type": "code",
   "execution_count": null,
   "id": "c1b9b0a7",
   "metadata": {},
   "outputs": [],
   "source": [
    "# Load dataset\n",
    "df = pd.read_csv('data/Hospital_ER_Data.csv')\n",
    "df.head()"
   ]
  },
  {
   "cell_type": "code",
   "execution_count": null,
   "id": "8c1745b0",
   "metadata": {},
   "outputs": [],
   "source": [
    "# Dataset overview\n",
    "df.info()"
   ]
  },
  {
   "cell_type": "code",
   "execution_count": null,
   "id": "1081fb73",
   "metadata": {},
   "outputs": [],
   "source": [
    "# Summary statistics\n",
    "df.describe(include='all')"
   ]
  },
  {
   "cell_type": "code",
   "execution_count": null,
   "id": "48c70c8a",
   "metadata": {},
   "outputs": [],
   "source": [
    "# Missing values heatmap\n",
    "msno.matrix(df)"
   ]
  },
  {
   "cell_type": "code",
   "execution_count": null,
   "id": "2aec7047",
   "metadata": {},
   "outputs": [],
   "source": [
    "# Null counts per column\n",
    "df.isnull().sum().sort_values(ascending=False)"
   ]
  },
  {
   "cell_type": "code",
   "execution_count": null,
   "id": "6435603d",
   "metadata": {},
   "outputs": [],
   "source": [
    "# Unique values per column\n",
    "df.nunique()"
   ]
  },
  {
   "cell_type": "code",
   "execution_count": null,
   "id": "714d20ce",
   "metadata": {},
   "outputs": [],
   "source": [
    "# Histograms for numeric columns\n",
    "df.hist(figsize=(12, 10), bins=20)\n",
    "plt.tight_layout()"
   ]
  },
  {
   "cell_type": "code",
   "execution_count": null,
   "id": "3f0aea04",
   "metadata": {},
   "outputs": [],
   "source": [
    "# Boxplots to detect outliers\n",
    "num_cols = ['Patient Age', 'Patient Satisfaction Score', 'Patient Waittime', 'Patients CM']\n",
    "for col in num_cols:\n",
    "    plt.figure(figsize=(6, 1))\n",
    "    sns.boxplot(x=df[col])\n",
    "    plt.title(f'Outliers in {col}')\n",
    "    plt.show()"
   ]
  },
  {
   "cell_type": "code",
   "execution_count": null,
   "id": "70970fb1",
   "metadata": {},
   "outputs": [],
   "source": [
    "# Categorical feature distribution\n",
    "cat_cols = ['Patient Gender', 'Patient Race', 'Department Referral', 'Patient Admission Flag']\n",
    "for col in cat_cols:\n",
    "    plt.figure(figsize=(6, 4))\n",
    "    sns.countplot(data=df, x=col, order=df[col].value_counts().index)\n",
    "    plt.title(f'Distribution of {col}')\n",
    "    plt.xticks(rotation=45)\n",
    "    plt.tight_layout()\n",
    "    plt.show()"
   ]
  },
  {
   "cell_type": "code",
   "execution_count": null,
   "id": "cf62fb48",
   "metadata": {},
   "outputs": [],
   "source": [
    "# Correlation matrix\n",
    "plt.figure(figsize=(10, 6))\n",
    "sns.heatmap(df.corr(numeric_only=True), annot=True, cmap='coolwarm', fmt='.2f')\n",
    "plt.title('Correlation Matrix')"
   ]
  }
 ],
 "metadata": {},
 "nbformat": 4,
 "nbformat_minor": 5
}
